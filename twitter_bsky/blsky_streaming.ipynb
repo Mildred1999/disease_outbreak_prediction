{
 "cells": [
  {
   "cell_type": "code",
   "execution_count": 1,
   "id": "35ad3bdd-f0c1-4d68-9a97-1872a155a803",
   "metadata": {},
   "outputs": [],
   "source": [
    "import nest_asyncio\n",
    "import asyncio\n",
    "import json\n",
    "from aiokafka import AIOKafkaConsumer\n",
    "import pyspark\n",
    "from pyspark.sql import SparkSession\n",
    "from pyspark.sql.types import StructType, StringType, StructField"
   ]
  },
  {
   "cell_type": "code",
   "execution_count": 2,
   "id": "95f8be44-df4b-49e8-99e2-21a7df4768cd",
   "metadata": {},
   "outputs": [],
   "source": [
    "#import necessary libraries\n",
    "nest_asyncio.apply()"
   ]
  },
  {
   "cell_type": "code",
   "execution_count": 3,
   "id": "1689f5a4-e374-42b6-8738-5d84bf2bffd8",
   "metadata": {},
   "outputs": [],
   "source": [
    "# start spark session\n",
    "spark = SparkSession.builder \\\n",
    "    .appName(\"KafkaToSpark\") \\\n",
    "    .getOrCreate()"
   ]
  },
  {
   "cell_type": "code",
   "execution_count": 4,
   "id": "d90592e6-d19f-488b-9249-83d40b26b0ca",
   "metadata": {},
   "outputs": [],
   "source": [
    "# kafka connfiguration\n",
    "BOOTSTRAP_SERVERS = \"localhost:9092\"\n",
    "KAFKA_TOPIC       = \"filtered_stream\""
   ]
  },
  {
   "cell_type": "code",
   "execution_count": 5,
   "id": "452940af-8670-45ed-b880-b4560e290f68",
   "metadata": {},
   "outputs": [],
   "source": [
    "# create spark schema for incoming posts\n",
    "schema = StructType() \\\n",
    "    .add(\"text\", StringType())\\\n",
    "    .add(\"timestamp\", StringType())\n",
    "     \n",
    "    "
   ]
  },
  {
   "cell_type": "code",
   "execution_count": 6,
   "id": "75bfd272-d25e-4860-96d1-1e29dae97984",
   "metadata": {},
   "outputs": [],
   "source": [
    "# create empty spark spark dataframe\n",
    "df_posts = spark.createDataFrame([], schema)"
   ]
  },
  {
   "cell_type": "code",
   "execution_count": 8,
   "id": "d3ec308f-b59c-427c-8833-471c57613364",
   "metadata": {},
   "outputs": [
    {
     "name": "stdout",
     "output_type": "stream",
     "text": [
      "\n",
      "🔄 Iteration 5 / 5\n",
      "+-----------------------------------------------------------------------------------------------------------------------------------------+----------------------------+\n",
      "|text                                                                                                                                     |timestamp                   |\n",
      "+-----------------------------------------------------------------------------------------------------------------------------------------+----------------------------+\n",
      "|Aaaaand the nausea is back.                                                                                                              |Mon Apr 06 22:37:46 PDT 2009|\n",
      "|My son Vincas is sick, so I stay at home  Just three tense days at work, and I am back on holiday with kids                              |Mon Apr 06 22:38:14 PDT 2009|\n",
      "|sooo sick of the snow  ughh                                                                                                              |Mon Apr 06 22:38:20 PDT 2009|\n",
      "|Poor Joshy is sick???   those damn tejanos!                                                                                              |Mon Apr 06 22:41:25 PDT 2009|\n",
      "|still sick. feeling a bit better, got some new medicine.... hope I feel good after a night of sleep. ohh, and it's suppose to snow! WTF! |Mon Apr 06 22:43:06 PDT 2009|\n",
      "|@bananaface IM SORRY I GOT YOU SICK.  lol. going to bed too. NIGHT!                                                                      |Mon Apr 06 22:46:36 PDT 2009|\n",
      "|Uh oh... I think I am getting sick                                                                                                       |Mon Apr 06 22:50:11 PDT 2009|\n",
      "|@NileLegania glad I was able help you feel better. I hate to see you sick  Love you!                                                     |Mon Apr 06 22:51:25 PDT 2009|\n",
      "|@lolitariot oh no  hope you're not getting sick too!                                                                                     |Mon Apr 06 22:52:38 PDT 2009|\n",
      "|Why is that when you have time off from work you get sick?                                                                               |Mon Apr 06 22:55:37 PDT 2009|\n",
      "|@KelleyRowe hey, you remember that time we used to be friends?? ;)  ugh. vomit. sick.  i need sleep                                      |Mon Apr 06 22:57:07 PDT 2009|\n",
      "|Poor Sandra Cantu &amp; the Cantu family! My prayers go out to them! What a sick world we live in. She was only 8                        |Mon Apr 06 22:57:50 PDT 2009|\n",
      "|im soooo cold right now                                                                                                                  |Mon Apr 06 22:58:07 PDT 2009|\n",
      "|I can't take this heat! It's like an oven in here. I feel sick nwo                                                                       |Mon Apr 06 23:01:01 PDT 2009|\n",
      "|Boredd. Colddd  Internet keeps stuffing up                                                                                               |Mon Apr 06 23:01:04 PDT 2009|\n",
      "|Back at work, tired as hell and i feel a cold coming                                                                                     |Mon Apr 06 23:02:19 PDT 2009|\n",
      "|@lovebscott umm nope..think im an insomniac ..plus i got the flu...i'lll be sleepin like a phuckin fish outta water any minute now!      |Mon Apr 06 23:02:39 PDT 2009|\n",
      "|vacations makes me feel sick!                                                                                                            |Mon Apr 06 23:03:23 PDT 2009|\n",
      "|Funny how the little things make me homesick, criminals breakn n2 a brownstone on LawNOrd CI made me misty                               |Mon Apr 06 23:10:32 PDT 2009|\n",
      "|i feel sick  too much icecream                                                                                                           |Mon Apr 06 23:11:55 PDT 2009|\n",
      "+-----------------------------------------------------------------------------------------------------------------------------------------+----------------------------+\n",
      "only showing top 20 rows\n",
      "\n"
     ]
    }
   ],
   "source": [
    "import asyncio\n",
    "from IPython import display\n",
    "\n",
    "async def consume_messages_batch(num_iterations=5, batch_limit=10, delay_seconds=5):\n",
    "    global df_posts\n",
    "\n",
    "    consumer = AIOKafkaConsumer(\n",
    "        KAFKA_TOPIC,\n",
    "        bootstrap_servers=BOOTSTRAP_SERVERS,\n",
    "        value_deserializer=lambda m: json.loads(m.decode('utf-8'))\n",
    "    )\n",
    "\n",
    "    await consumer.start()\n",
    "    try:\n",
    "        for iteration in range(num_iterations):\n",
    "            display.clear_output(wait=True)\n",
    "            print(f\"\\n🔄 Iteration {iteration + 1} / {num_iterations}\")\n",
    "\n",
    "            batch_rows = []\n",
    "            count = 0\n",
    "\n",
    "            async for message in consumer:\n",
    "                post = message.value\n",
    "                batch_rows.append((post.get(\"text\", \"\"), post.get(\"timestamp\", \"\")))\n",
    "                count += 1\n",
    "\n",
    "                if count >= batch_limit:\n",
    "                    break\n",
    "\n",
    "            if batch_rows:\n",
    "                new_batch_df = spark.createDataFrame(batch_rows, schema=schema)\n",
    "                df_posts = df_posts.union(new_batch_df)\n",
    "                df_posts.show(truncate=False)\n",
    "            else:\n",
    "                print(\"⚠️ No new messages received.\")\n",
    "\n",
    "            # Pause before next batch\n",
    "            await asyncio.sleep(delay_seconds)\n",
    "\n",
    "    finally:\n",
    "        await consumer.stop()\n",
    "\n",
    "await consume_messages_batch(num_iterations=5, batch_limit=10, delay_seconds=5)"
   ]
  },
  {
   "cell_type": "markdown",
   "id": "e333e125-9127-4ba0-b269-9a0eb16c892b",
   "metadata": {},
   "source": [
    "### Passing the data through a pipeline"
   ]
  },
  {
   "cell_type": "code",
   "execution_count": 11,
   "id": "ad2cab86-b810-47c6-8dfa-6b2c02f4ba8f",
   "metadata": {},
   "outputs": [],
   "source": [
    "import pyspark.sql.functions as f\n",
    "df1 = df_posts.withColumn( \"datetime_clean\",  \n",
    "f.regexp_replace(\"timestamp\", r\"^[A-Za-z]{3} \", \"\")  # Remove the day of the week \n",
    ")"
   ]
  },
  {
   "cell_type": "code",
   "execution_count": 12,
   "id": "c284f588-7583-4556-bf47-9d934c73a7e6",
   "metadata": {},
   "outputs": [],
   "source": [
    "df2 = df1.withColumn( \"datetime_column2\",  \n",
    "f.regexp_replace(\"datetime_clean\", r\"\\s[A-Za-z]+$\", \"\")  # Remove the timezone (e.g., \"GMT\") \n",
    ") "
   ]
  },
  {
   "cell_type": "code",
   "execution_count": 13,
   "id": "cd46a4c9-06bd-4e9c-9f39-db86d6d1c323",
   "metadata": {},
   "outputs": [],
   "source": [
    "df3 = df2.withColumn(\"datetime_final\", f.to_timestamp(df2.datetime_column2, \"MMM dd HH:mm:ss z yyyy\"))"
   ]
  },
  {
   "cell_type": "code",
   "execution_count": 14,
   "id": "5f7b3e95-9ecf-49bf-a3a6-d7a3b0c2061e",
   "metadata": {},
   "outputs": [
    {
     "name": "stdout",
     "output_type": "stream",
     "text": [
      "+--------------------+--------------------+--------------------+--------------------+-------------------+\n",
      "|                text|           timestamp|      datetime_clean|    datetime_column2|     datetime_final|\n",
      "+--------------------+--------------------+--------------------+--------------------+-------------------+\n",
      "|Aaaaand the nause...|Mon Apr 06 22:37:...|Apr 06 22:37:46 P...|Apr 06 22:37:46 P...|2009-04-07 05:37:46|\n",
      "|My son Vincas is ...|Mon Apr 06 22:38:...|Apr 06 22:38:14 P...|Apr 06 22:38:14 P...|2009-04-07 05:38:14|\n",
      "|sooo sick of the ...|Mon Apr 06 22:38:...|Apr 06 22:38:20 P...|Apr 06 22:38:20 P...|2009-04-07 05:38:20|\n",
      "|Poor Joshy is sic...|Mon Apr 06 22:41:...|Apr 06 22:41:25 P...|Apr 06 22:41:25 P...|2009-04-07 05:41:25|\n",
      "|still sick. feeli...|Mon Apr 06 22:43:...|Apr 06 22:43:06 P...|Apr 06 22:43:06 P...|2009-04-07 05:43:06|\n",
      "|@bananaface IM SO...|Mon Apr 06 22:46:...|Apr 06 22:46:36 P...|Apr 06 22:46:36 P...|2009-04-07 05:46:36|\n",
      "|Uh oh... I think ...|Mon Apr 06 22:50:...|Apr 06 22:50:11 P...|Apr 06 22:50:11 P...|2009-04-07 05:50:11|\n",
      "|@NileLegania glad...|Mon Apr 06 22:51:...|Apr 06 22:51:25 P...|Apr 06 22:51:25 P...|2009-04-07 05:51:25|\n",
      "|@lolitariot oh no...|Mon Apr 06 22:52:...|Apr 06 22:52:38 P...|Apr 06 22:52:38 P...|2009-04-07 05:52:38|\n",
      "|Why is that when ...|Mon Apr 06 22:55:...|Apr 06 22:55:37 P...|Apr 06 22:55:37 P...|2009-04-07 05:55:37|\n",
      "|@KelleyRowe hey, ...|Mon Apr 06 22:57:...|Apr 06 22:57:07 P...|Apr 06 22:57:07 P...|2009-04-07 05:57:07|\n",
      "|Poor Sandra Cantu...|Mon Apr 06 22:57:...|Apr 06 22:57:50 P...|Apr 06 22:57:50 P...|2009-04-07 05:57:50|\n",
      "|im soooo cold rig...|Mon Apr 06 22:58:...|Apr 06 22:58:07 P...|Apr 06 22:58:07 P...|2009-04-07 05:58:07|\n",
      "|I can't take this...|Mon Apr 06 23:01:...|Apr 06 23:01:01 P...|Apr 06 23:01:01 P...|2009-04-07 06:01:01|\n",
      "|Boredd. Colddd  I...|Mon Apr 06 23:01:...|Apr 06 23:01:04 P...|Apr 06 23:01:04 P...|2009-04-07 06:01:04|\n",
      "|Back at work, tir...|Mon Apr 06 23:02:...|Apr 06 23:02:19 P...|Apr 06 23:02:19 P...|2009-04-07 06:02:19|\n",
      "|@lovebscott umm n...|Mon Apr 06 23:02:...|Apr 06 23:02:39 P...|Apr 06 23:02:39 P...|2009-04-07 06:02:39|\n",
      "|vacations makes m...|Mon Apr 06 23:03:...|Apr 06 23:03:23 P...|Apr 06 23:03:23 P...|2009-04-07 06:03:23|\n",
      "|Funny how the lit...|Mon Apr 06 23:10:...|Apr 06 23:10:32 P...|Apr 06 23:10:32 P...|2009-04-07 06:10:32|\n",
      "|i feel sick  too ...|Mon Apr 06 23:11:...|Apr 06 23:11:55 P...|Apr 06 23:11:55 P...|2009-04-07 06:11:55|\n",
      "+--------------------+--------------------+--------------------+--------------------+-------------------+\n",
      "only showing top 20 rows\n",
      "\n"
     ]
    }
   ],
   "source": [
    "df3.show()"
   ]
  },
  {
   "cell_type": "code",
   "execution_count": 15,
   "id": "5a2d57e6-458a-40bc-83e5-53e3f20a40a3",
   "metadata": {},
   "outputs": [
    {
     "name": "stdout",
     "output_type": "stream",
     "text": [
      "root\n",
      " |-- text: string (nullable = true)\n",
      " |-- timestamp: string (nullable = true)\n",
      " |-- datetime_clean: string (nullable = true)\n",
      " |-- datetime_column2: string (nullable = true)\n",
      " |-- datetime_final: timestamp (nullable = true)\n",
      "\n"
     ]
    }
   ],
   "source": [
    "df3.printSchema()"
   ]
  },
  {
   "cell_type": "code",
   "execution_count": 18,
   "id": "ea3c8d98-5675-4c22-bc2a-ca49f18bd99d",
   "metadata": {},
   "outputs": [],
   "source": [
    "df4 = df3.drop(\"timestamp\", \"datetime_clean\", \"datetime_column2\")"
   ]
  },
  {
   "cell_type": "code",
   "execution_count": 16,
   "id": "cf9c6b3e-19cd-400d-96ad-8ec4d97a50e6",
   "metadata": {},
   "outputs": [],
   "source": [
    "from pyspark.ml.feature import RegexTokenizer, StopWordsRemover, CountVectorizer, VectorAssembler\n",
    "from pyspark.ml import Pipeline\n",
    "\n",
    "regex_token = RegexTokenizer(\n",
    "    inputCol=\"text\",\n",
    "    outputCol=\"content_filtered\",\n",
    "    pattern=\"\\\\W+\",\n",
    "    toLowercase=True\n",
    ")\n",
    "\n",
    "default_stopwords = StopWordsRemover.loadDefaultStopWords('english')\n",
    "additional_stopwords = ['rt', 'via', 'amp', 'https', 'http', 'co', 'bsky', 'u', 'app', 's', 'www', 'com', 'de']\n",
    "all_stopwords = list(set(default_stopwords + additional_stopwords))\n",
    "\n",
    "stop_words_remover = StopWordsRemover(\n",
    "    inputCol=\"content_filtered\",\n",
    "    outputCol=\"filtered_words\",\n",
    "    stopWords=all_stopwords\n",
    ")\n",
    "\n",
    "count_vectorizer = CountVectorizer(\n",
    "    inputCol=\"filtered_words\",\n",
    "    outputCol=\"features\"\n",
    ")\n",
    "\n",
    "vector_assembler = VectorAssembler(\n",
    "    inputCols=[\"features\"],\n",
    "    outputCol=\"final_features\"\n",
    ")\n",
    "\n",
    "full_pipeline = Pipeline(stages=[\n",
    "    regex_token,\n",
    "    stop_words_remover,\n",
    "    count_vectorizer,\n",
    "    vector_assembler\n",
    "])"
   ]
  },
  {
   "cell_type": "code",
   "execution_count": 19,
   "id": "e6a7d5bf-60eb-4d54-954f-04398b12ddd3",
   "metadata": {},
   "outputs": [],
   "source": [
    "# Fit the pipeline\n",
    "pipeline_model = full_pipeline.fit(df4)"
   ]
  },
  {
   "cell_type": "code",
   "execution_count": 20,
   "id": "7bd851be-6a3b-417e-a78b-771b7f16840f",
   "metadata": {},
   "outputs": [],
   "source": [
    "# Show the data\n",
    "df_ready = pipeline_model.transform(df3)"
   ]
  },
  {
   "cell_type": "markdown",
   "id": "6024ba65-f989-4c34-acc6-53f174bc8b82",
   "metadata": {},
   "source": [
    "## LDA Model"
   ]
  },
  {
   "cell_type": "code",
   "execution_count": null,
   "id": "e99fc934-ac51-4ef8-a0be-f7558716f4fd",
   "metadata": {},
   "outputs": [],
   "source": [
    "from pyspark.ml.clustering import LDA, KMeans"
   ]
  },
  {
   "cell_type": "code",
   "execution_count": null,
   "id": "5f4b192b-0c36-437f-9bd1-bbf89a2924e2",
   "metadata": {},
   "outputs": [],
   "source": [
    "# --- Fit LDA ---\n",
    "lda = LDA(k=5, maxIter=10, featuresCol=\"features\")\n",
    "lda_model = lda.fit(df_ready)\n",
    "\n",
    "# Save LDA model\n",
    "lda_model.write().overwrite().save(\"models/lda_model\")"
   ]
  },
  {
   "cell_type": "markdown",
   "id": "30888b65-bbc3-45d0-bb83-770626300d1f",
   "metadata": {},
   "source": [
    "### K Means"
   ]
  },
  {
   "cell_type": "code",
   "execution_count": null,
   "id": "aead4639-d752-4e4b-9862-8393571214d0",
   "metadata": {},
   "outputs": [],
   "source": [
    "# --- Fit KMeans ---\n",
    "kmeans = KMeans(k=5, seed=42, featuresCol=\"features\")\n",
    "kmeans_model = kmeans.fit(df_ready)\n",
    "\n",
    "# Save KMeans model\n",
    "kmeans_model.write().overwrite().save(\"models/kmeans_model\")"
   ]
  },
  {
   "cell_type": "code",
   "execution_count": null,
   "id": "5833ec28-6b81-4b7e-a645-0c95239b6f51",
   "metadata": {},
   "outputs": [],
   "source": []
  },
  {
   "cell_type": "code",
   "execution_count": null,
   "id": "a70e909a-adba-44f5-b2f1-e6e5c38aa956",
   "metadata": {},
   "outputs": [],
   "source": []
  },
  {
   "cell_type": "code",
   "execution_count": null,
   "id": "7825df7e-9fe0-40a6-b57d-37add032cef0",
   "metadata": {},
   "outputs": [],
   "source": []
  },
  {
   "cell_type": "code",
   "execution_count": null,
   "id": "a962b42a-60fe-48ef-bcd0-6e111d6a3783",
   "metadata": {},
   "outputs": [],
   "source": []
  }
 ],
 "metadata": {
  "kernelspec": {
   "display_name": "Python 3",
   "language": "python",
   "name": "python3"
  },
  "language_info": {
   "codemirror_mode": {
    "name": "ipython",
    "version": 3
   },
   "file_extension": ".py",
   "mimetype": "text/x-python",
   "name": "python",
   "nbconvert_exporter": "python",
   "pygments_lexer": "ipython3",
   "version": "3.8.10"
  }
 },
 "nbformat": 4,
 "nbformat_minor": 5
}
